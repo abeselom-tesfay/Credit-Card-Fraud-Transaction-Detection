{
 "cells": [
  {
   "cell_type": "code",
   "execution_count": null,
   "id": "1a6c6215-b41b-4eb3-b09e-1990f3c7afa0",
   "metadata": {},
   "outputs": [],
   "source": [
    "#Load and resample data"
   ]
  },
  {
   "cell_type": "code",
   "execution_count": null,
   "id": "a1176878-5fcc-4f6c-a2b5-25097ddea6cb",
   "metadata": {},
   "outputs": [],
   "source": [
    "import sys\n",
    "import os\n",
    "sys.path.append(os.path.abspath('../src'))"
   ]
  },
  {
   "cell_type": "code",
   "execution_count": null,
   "id": "e7de34f6-2209-484e-8c82-02d299deb16f",
   "metadata": {},
   "outputs": [],
   "source": [
    "import warnings\n",
    "from sklearn.exceptions import ConvergenceWarning\n",
    "\n",
    "warnings.filterwarnings(\"ignore\", category=ConvergenceWarning)"
   ]
  },
  {
   "cell_type": "code",
   "execution_count": null,
   "id": "05a51132-7a56-47f5-97ec-bc81f5b6df7f",
   "metadata": {},
   "outputs": [],
   "source": [
    "from preprocessing import load_and_resample_data, split_and_scale\n",
    "from models import get_models, evaluate_model, cross_validate_model\n",
    "from visualization import plot_roc_curves, shap_summary_plot\n",
    "import joblib"
   ]
  },
  {
   "cell_type": "code",
   "execution_count": null,
   "id": "b53b53b6-abb5-4928-b41f-b589c30e526d",
   "metadata": {},
   "outputs": [],
   "source": [
    "X_resampled, y_resampled = load_and_resample_data('../data/creditcard.csv')\n",
    "X_train, X_test, y_train, y_test, X_train_scaled, X_test_scaled = split_and_scale(X_resampled, y_resampled)"
   ]
  },
  {
   "cell_type": "code",
   "execution_count": null,
   "id": "8e775241-77f6-4584-8b6e-6e256d61a23f",
   "metadata": {},
   "outputs": [],
   "source": [
    "#Train and evaluate all models"
   ]
  },
  {
   "cell_type": "code",
   "execution_count": null,
   "id": "458027b2-2d83-4d11-9087-14987ed32995",
   "metadata": {},
   "outputs": [],
   "source": [
    "models = get_models()\n",
    "results = []\n",
    "\n",
    "for name, model in models.items():\n",
    "    if name == \"Logistic Regression\":\n",
    "        res = evaluate_model(name, model, X_train_scaled, X_test_scaled, y_train, y_test)\n",
    "    else:\n",
    "        res = evaluate_model(name, model, X_train, X_test, y_train, y_test)\n",
    "    results.append(res)"
   ]
  }
 ],
 "metadata": {
  "kernelspec": {
   "display_name": "Python [conda env:base] *",
   "language": "python",
   "name": "conda-base-py"
  },
  "language_info": {
   "codemirror_mode": {
    "name": "ipython",
    "version": 3
   },
   "file_extension": ".py",
   "mimetype": "text/x-python",
   "name": "python",
   "nbconvert_exporter": "python",
   "pygments_lexer": "ipython3",
   "version": "3.12.7"
  }
 },
 "nbformat": 4,
 "nbformat_minor": 5
}
