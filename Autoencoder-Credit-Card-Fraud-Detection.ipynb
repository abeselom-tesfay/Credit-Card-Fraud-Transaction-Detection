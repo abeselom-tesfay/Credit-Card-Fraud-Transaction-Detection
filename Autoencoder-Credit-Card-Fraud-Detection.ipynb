{
 "cells": [
  {
   "cell_type": "code",
   "execution_count": 47,
   "id": "21510ce3-6568-4c8d-b660-4fb376aab222",
   "metadata": {},
   "outputs": [],
   "source": [
    "#Import Libraries"
   ]
  },
  {
   "cell_type": "code",
   "execution_count": 49,
   "id": "b656ed11-b8cb-4c2d-84f7-76a5a1b0f5c0",
   "metadata": {},
   "outputs": [],
   "source": [
    "import numpy as np\n",
    "import pandas as pd\n",
    "import matplotlib.pyplot as plt\n",
    "import seaborn as sns\n",
    "\n",
    "from sklearn.preprocessing import StandardScaler\n",
    "from sklearn.model_selection import train_test_split\n",
    "from sklearn.metrics import (\n",
    "    precision_score, recall_score, f1_score, roc_auc_score,\n",
    "    confusion_matrix, roc_curve, auc\n",
    ")\n",
    "\n",
    "import tensorflow as tf\n",
    "from tensorflow.keras.models import Model\n",
    "from tensorflow.keras.layers import Input, Dense\n",
    "from tensorflow.keras.optimizers import Adam\n",
    "from tensorflow.keras.callbacks import EarlyStopping, ModelCheckpoint"
   ]
  },
  {
   "cell_type": "code",
   "execution_count": 51,
   "id": "03aeacdf-48dd-464b-9074-90381e5fd783",
   "metadata": {},
   "outputs": [],
   "source": [
    "#Load and Inspect Dataset"
   ]
  },
  {
   "cell_type": "code",
   "execution_count": 53,
   "id": "954df3c9-7622-46fa-8cc6-3d2eabc974ea",
   "metadata": {},
   "outputs": [],
   "source": [
    "data = pd.read_csv('data/creditcard.csv')"
   ]
  },
  {
   "cell_type": "code",
   "execution_count": 54,
   "id": "12ce39d7-3ee3-4263-a4a0-906068939ed0",
   "metadata": {},
   "outputs": [
    {
     "name": "stdout",
     "output_type": "stream",
     "text": [
      "First 5 rows of the dataset:\n",
      "   Time        V1        V2        V3        V4        V5        V6        V7  \\\n",
      "0   0.0 -1.359807 -0.072781  2.536347  1.378155 -0.338321  0.462388  0.239599   \n",
      "1   0.0  1.191857  0.266151  0.166480  0.448154  0.060018 -0.082361 -0.078803   \n",
      "2   1.0 -1.358354 -1.340163  1.773209  0.379780 -0.503198  1.800499  0.791461   \n",
      "3   1.0 -0.966272 -0.185226  1.792993 -0.863291 -0.010309  1.247203  0.237609   \n",
      "4   2.0 -1.158233  0.877737  1.548718  0.403034 -0.407193  0.095921  0.592941   \n",
      "\n",
      "         V8        V9  ...       V21       V22       V23       V24       V25  \\\n",
      "0  0.098698  0.363787  ... -0.018307  0.277838 -0.110474  0.066928  0.128539   \n",
      "1  0.085102 -0.255425  ... -0.225775 -0.638672  0.101288 -0.339846  0.167170   \n",
      "2  0.247676 -1.514654  ...  0.247998  0.771679  0.909412 -0.689281 -0.327642   \n",
      "3  0.377436 -1.387024  ... -0.108300  0.005274 -0.190321 -1.175575  0.647376   \n",
      "4 -0.270533  0.817739  ... -0.009431  0.798278 -0.137458  0.141267 -0.206010   \n",
      "\n",
      "        V26       V27       V28  Amount  Class  \n",
      "0 -0.189115  0.133558 -0.021053  149.62      0  \n",
      "1  0.125895 -0.008983  0.014724    2.69      0  \n",
      "2 -0.139097 -0.055353 -0.059752  378.66      0  \n",
      "3 -0.221929  0.062723  0.061458  123.50      0  \n",
      "4  0.502292  0.219422  0.215153   69.99      0  \n",
      "\n",
      "[5 rows x 31 columns]\n"
     ]
    }
   ],
   "source": [
    "# Basic exploration\n",
    "print(\"First 5 rows of the dataset:\")\n",
    "print(data.head())"
   ]
  },
  {
   "cell_type": "code",
   "execution_count": 55,
   "id": "6bdf9083-2a17-4904-8887-baf93bfa6621",
   "metadata": {},
   "outputs": [
    {
     "name": "stdout",
     "output_type": "stream",
     "text": [
      "\n",
      "Dataset Info:\n",
      "<class 'pandas.core.frame.DataFrame'>\n",
      "RangeIndex: 284807 entries, 0 to 284806\n",
      "Data columns (total 31 columns):\n",
      " #   Column  Non-Null Count   Dtype  \n",
      "---  ------  --------------   -----  \n",
      " 0   Time    284807 non-null  float64\n",
      " 1   V1      284807 non-null  float64\n",
      " 2   V2      284807 non-null  float64\n",
      " 3   V3      284807 non-null  float64\n",
      " 4   V4      284807 non-null  float64\n",
      " 5   V5      284807 non-null  float64\n",
      " 6   V6      284807 non-null  float64\n",
      " 7   V7      284807 non-null  float64\n",
      " 8   V8      284807 non-null  float64\n",
      " 9   V9      284807 non-null  float64\n",
      " 10  V10     284807 non-null  float64\n",
      " 11  V11     284807 non-null  float64\n",
      " 12  V12     284807 non-null  float64\n",
      " 13  V13     284807 non-null  float64\n",
      " 14  V14     284807 non-null  float64\n",
      " 15  V15     284807 non-null  float64\n",
      " 16  V16     284807 non-null  float64\n",
      " 17  V17     284807 non-null  float64\n",
      " 18  V18     284807 non-null  float64\n",
      " 19  V19     284807 non-null  float64\n",
      " 20  V20     284807 non-null  float64\n",
      " 21  V21     284807 non-null  float64\n",
      " 22  V22     284807 non-null  float64\n",
      " 23  V23     284807 non-null  float64\n",
      " 24  V24     284807 non-null  float64\n",
      " 25  V25     284807 non-null  float64\n",
      " 26  V26     284807 non-null  float64\n",
      " 27  V27     284807 non-null  float64\n",
      " 28  V28     284807 non-null  float64\n",
      " 29  Amount  284807 non-null  float64\n",
      " 30  Class   284807 non-null  int64  \n",
      "dtypes: float64(30), int64(1)\n",
      "memory usage: 67.4 MB\n",
      "None\n"
     ]
    }
   ],
   "source": [
    "print(\"\\nDataset Info:\")\n",
    "print(data.info())"
   ]
  },
  {
   "cell_type": "code",
   "execution_count": 56,
   "id": "cf005711-e7c5-428b-9a53-7cfde27d2dc6",
   "metadata": {},
   "outputs": [
    {
     "name": "stdout",
     "output_type": "stream",
     "text": [
      "\n",
      " Null value check:\n",
      "Time      0\n",
      "V1        0\n",
      "V2        0\n",
      "V3        0\n",
      "V4        0\n",
      "V5        0\n",
      "V6        0\n",
      "V7        0\n",
      "V8        0\n",
      "V9        0\n",
      "V10       0\n",
      "V11       0\n",
      "V12       0\n",
      "V13       0\n",
      "V14       0\n",
      "V15       0\n",
      "V16       0\n",
      "V17       0\n",
      "V18       0\n",
      "V19       0\n",
      "V20       0\n",
      "V21       0\n",
      "V22       0\n",
      "V23       0\n",
      "V24       0\n",
      "V25       0\n",
      "V26       0\n",
      "V27       0\n",
      "V28       0\n",
      "Amount    0\n",
      "Class     0\n",
      "dtype: int64\n"
     ]
    }
   ],
   "source": [
    "print(\"\\n Null value check:\")\n",
    "print(data.isnull().sum())"
   ]
  },
  {
   "cell_type": "code",
   "execution_count": 59,
   "id": "51fa5460-a25b-4657-a842-2e4469488c8d",
   "metadata": {},
   "outputs": [
    {
     "name": "stdout",
     "output_type": "stream",
     "text": [
      "\n",
      " Class distribution:\n",
      "Class\n",
      "0    284315\n",
      "1       492\n",
      "Name: count, dtype: int64\n"
     ]
    }
   ],
   "source": [
    "print(\"\\n Class distribution:\")\n",
    "print(data['Class'].value_counts())"
   ]
  },
  {
   "cell_type": "code",
   "execution_count": 63,
   "id": "3c21e69e-e59d-4d0f-b0fc-83d33a640513",
   "metadata": {},
   "outputs": [
    {
     "data": {
      "image/png": "[encoded data removed]",
      "text/plain": [
       "<Figure size 600x400 with 1 Axes>"
      ]
     },
     "metadata": {},
     "output_type": "display_data"
    }
   ],
   "source": [
    "# Plotting the class distribution\n",
    "plt.figure(figsize=(6, 4))\n",
    "sns.countplot(x='Class', data=data)\n",
    "plt.title('Distribution of Legit vs Fraudulent Transactions')\n",
    "plt.xlabel('Class (0 = Legit, 1 = Fraud)')\n",
    "plt.ylabel('Count')\n",
    "plt.show()"
   ]
  },
  {
   "cell_type": "code",
   "execution_count": 65,
   "id": "86d0f899-450c-42ac-b568-c9fd5b6860c3",
   "metadata": {},
   "outputs": [],
   "source": [
    "#Preprocessing"
   ]
  },
  {
   "cell_type": "code",
   "execution_count": 67,
   "id": "710dfd21-d620-4e98-98d5-5d1ec73c3b6d",
   "metadata": {},
   "outputs": [],
   "source": [
    "data = data.drop(columns=['Time'])\n",
    "\n",
    "scaler = StandardScaler()\n",
    "data['Amount'] = scaler.fit_transform(data[['Amount']])"
   ]
  },
  {
   "cell_type": "code",
   "execution_count": 69,
   "id": "f4045714-d357-4ddc-9ccc-8787b1786074",
   "metadata": {},
   "outputs": [],
   "source": [
    " #Separate normal and fraud transactions"
   ]
  },
  {
   "cell_type": "code",
   "execution_count": 71,
   "id": "50233018-b947-4997-b7d8-29f3de0f75a3",
   "metadata": {},
   "outputs": [],
   "source": [
    "data_normal = data[data['Class'] == 0]\n",
    "data_fraud = data[data['Class'] == 1]\n",
    "\n",
    "X_normal = data_normal.drop(columns=['Class'])\n",
    "X_fraud = data_fraud.drop(columns=['Class'])"
   ]
  },
  {
   "cell_type": "code",
   "execution_count": 73,
   "id": "e1bd71fe-1b1a-4d7b-903c-ff3812a52b09",
   "metadata": {},
   "outputs": [],
   "source": [
    "#Train-Test Split (only normal for training)"
   ]
  },
  {
   "cell_type": "code",
   "execution_count": 75,
   "id": "97e3a983-2b18-4eb3-9131-98b7c54457d3",
   "metadata": {},
   "outputs": [
    {
     "name": "stdout",
     "output_type": "stream",
     "text": [
      "\n",
      "Train normal samples shape: (227452, 29)\n",
      "Test set shape (normal + fraud): (57355, 29)\n"
     ]
    }
   ],
   "source": [
    "# Scale all features\n",
    "scaler = StandardScaler()\n",
    "X_normal_scaled = scaler.fit_transform(X_normal)\n",
    "X_fraud_scaled = scaler.transform(X_fraud)\n",
    "\n",
    "# Split normal data into train/test\n",
    "X_train, X_test_normal = train_test_split(\n",
    "    X_normal_scaled, test_size=0.2, random_state=42\n",
    ")\n",
    "\n",
    "# Combine test data (normal + fraud)\n",
    "X_test = np.vstack([X_test_normal, X_fraud_scaled])\n",
    "y_test = np.hstack([\n",
    "    np.zeros(len(X_test_normal)),\n",
    "    np.ones(len(X_fraud_scaled))\n",
    "])\n",
    "\n",
    "# Output shapes\n",
    "print(f\"\\nTrain normal samples shape: {X_train.shape}\")\n",
    "print(f\"Test set shape (normal + fraud): {X_test.shape}\")"
   ]
  },
  {
   "cell_type": "code",
   "execution_count": 77,
   "id": "e2f1d00a-febe-43c1-934b-d8e372e45227",
   "metadata": {},
   "outputs": [],
   "source": [
    "#Build Autoencoder Model"
   ]
  },
  {
   "cell_type": "code",
   "execution_count": 79,
   "id": "843186be-b686-4605-aa52-2b68a59a5e90",
   "metadata": {},
   "outputs": [
    {
     "data": {
      "text/html": [
       "<pre style=\"white-space:pre;overflow-x:auto;line-height:normal;font-family:Menlo,'DejaVu Sans Mono',consolas,'Courier New',monospace\"><span style=\"font-weight: bold\">Model: \"functional\"</span>\n",
       "</pre>\n"
      ],
      "text/plain": [
       "\u001b[1mModel: \"functional\"\u001b[0m\n"
      ]
     },
     "metadata": {},
     "output_type": "display_data"
    },
    {
     "data": {
      "text/html": [
       "<pre style=\"white-space:pre;overflow-x:auto;line-height:normal;font-family:Menlo,'DejaVu Sans Mono',consolas,'Courier New',monospace\">┏━━━━━━━━━━━━━━━━━━━━━━━━━━━━━━━━━━━━━━┳━━━━━━━━━━━━━━━━━━━━━━━━━━━━━┳━━━━━━━━━━━━━━━━━┓\n",
       "┃<span style=\"font-weight: bold\"> Layer (type)                         </span>┃<span style=\"font-weight: bold\"> Output Shape                </span>┃<span style=\"font-weight: bold\">         Param # </span>┃\n",
       "┡━━━━━━━━━━━━━━━━━━━━━━━━━━━━━━━━━━━━━━╇━━━━━━━━━━━━━━━━━━━━━━━━━━━━━╇━━━━━━━━━━━━━━━━━┩\n",
       "│ input_layer (<span style=\"color: #0087ff; text-decoration-color: #0087ff\">InputLayer</span>)             │ (<span style=\"color: #00d7ff; text-decoration-color: #00d7ff\">None</span>, <span style=\"color: #00af00; text-decoration-color: #00af00\">29</span>)                  │               <span style=\"color: #00af00; text-decoration-color: #00af00\">0</span> │\n",
       "├──────────────────────────────────────┼─────────────────────────────┼─────────────────┤\n",
       "│ dense (<span style=\"color: #0087ff; text-decoration-color: #0087ff\">Dense</span>)                        │ (<span style=\"color: #00d7ff; text-decoration-color: #00d7ff\">None</span>, <span style=\"color: #00af00; text-decoration-color: #00af00\">32</span>)                  │             <span style=\"color: #00af00; text-decoration-color: #00af00\">960</span> │\n",
       "├──────────────────────────────────────┼─────────────────────────────┼─────────────────┤\n",
       "│ dense_1 (<span style=\"color: #0087ff; text-decoration-color: #0087ff\">Dense</span>)                      │ (<span style=\"color: #00d7ff; text-decoration-color: #00d7ff\">None</span>, <span style=\"color: #00af00; text-decoration-color: #00af00\">16</span>)                  │             <span style=\"color: #00af00; text-decoration-color: #00af00\">528</span> │\n",
       "├──────────────────────────────────────┼─────────────────────────────┼─────────────────┤\n",
       "│ dense_2 (<span style=\"color: #0087ff; text-decoration-color: #0087ff\">Dense</span>)                      │ (<span style=\"color: #00d7ff; text-decoration-color: #00d7ff\">None</span>, <span style=\"color: #00af00; text-decoration-color: #00af00\">8</span>)                   │             <span style=\"color: #00af00; text-decoration-color: #00af00\">136</span> │\n",
       "├──────────────────────────────────────┼─────────────────────────────┼─────────────────┤\n",
       "│ dense_3 (<span style=\"color: #0087ff; text-decoration-color: #0087ff\">Dense</span>)                      │ (<span style=\"color: #00d7ff; text-decoration-color: #00d7ff\">None</span>, <span style=\"color: #00af00; text-decoration-color: #00af00\">4</span>)                   │              <span style=\"color: #00af00; text-decoration-color: #00af00\">36</span> │\n",
       "├──────────────────────────────────────┼─────────────────────────────┼─────────────────┤\n",
       "│ dense_4 (<span style=\"color: #0087ff; text-decoration-color: #0087ff\">Dense</span>)                      │ (<span style=\"color: #00d7ff; text-decoration-color: #00d7ff\">None</span>, <span style=\"color: #00af00; text-decoration-color: #00af00\">8</span>)                   │              <span style=\"color: #00af00; text-decoration-color: #00af00\">40</span> │\n",
       "├──────────────────────────────────────┼─────────────────────────────┼─────────────────┤\n",
       "│ dense_5 (<span style=\"color: #0087ff; text-decoration-color: #0087ff\">Dense</span>)                      │ (<span style=\"color: #00d7ff; text-decoration-color: #00d7ff\">None</span>, <span style=\"color: #00af00; text-decoration-color: #00af00\">16</span>)                  │             <span style=\"color: #00af00; text-decoration-color: #00af00\">144</span> │\n",
       "├──────────────────────────────────────┼─────────────────────────────┼─────────────────┤\n",
       "│ dense_6 (<span style=\"color: #0087ff; text-decoration-color: #0087ff\">Dense</span>)                      │ (<span style=\"color: #00d7ff; text-decoration-color: #00d7ff\">None</span>, <span style=\"color: #00af00; text-decoration-color: #00af00\">32</span>)                  │             <span style=\"color: #00af00; text-decoration-color: #00af00\">544</span> │\n",
       "├──────────────────────────────────────┼─────────────────────────────┼─────────────────┤\n",
       "│ dense_7 (<span style=\"color: #0087ff; text-decoration-color: #0087ff\">Dense</span>)                      │ (<span style=\"color: #00d7ff; text-decoration-color: #00d7ff\">None</span>, <span style=\"color: #00af00; text-decoration-color: #00af00\">29</span>)                  │             <span style=\"color: #00af00; text-decoration-color: #00af00\">957</span> │\n",
       "└──────────────────────────────────────┴─────────────────────────────┴─────────────────┘\n",
       "</pre>\n"
      ],
      "text/plain": [
       "┏━━━━━━━━━━━━━━━━━━━━━━━━━━━━━━━━━━━━━━┳━━━━━━━━━━━━━━━━━━━━━━━━━━━━━┳━━━━━━━━━━━━━━━━━┓\n",
       "┃\u001b[1m \u001b[0m\u001b[1mLayer (type)                        \u001b[0m\u001b[1m \u001b[0m┃\u001b[1m \u001b[0m\u001b[1mOutput Shape               \u001b[0m\u001b[1m \u001b[0m┃\u001b[1m \u001b[0m\u001b[1m        Param #\u001b[0m\u001b[1m \u001b[0m┃\n",
       "┡━━━━━━━━━━━━━━━━━━━━━━━━━━━━━━━━━━━━━━╇━━━━━━━━━━━━━━━━━━━━━━━━━━━━━╇━━━━━━━━━━━━━━━━━┩\n",
       "│ input_layer (\u001b[38;5;33mInputLayer\u001b[0m)             │ (\u001b[38;5;45mNone\u001b[0m, \u001b[38;5;34m29\u001b[0m)                  │               \u001b[38;5;34m0\u001b[0m │\n",
       "├──────────────────────────────────────┼─────────────────────────────┼─────────────────┤\n",
       "│ dense (\u001b[38;5;33mDense\u001b[0m)                        │ (\u001b[38;5;45mNone\u001b[0m, \u001b[38;5;34m32\u001b[0m)                  │             \u001b[38;5;34m960\u001b[0m │\n",
       "├──────────────────────────────────────┼─────────────────────────────┼─────────────────┤\n",
       "│ dense_1 (\u001b[38;5;33mDense\u001b[0m)                      │ (\u001b[38;5;45mNone\u001b[0m, \u001b[38;5;34m16\u001b[0m)                  │             \u001b[38;5;34m528\u001b[0m │\n",
       "├──────────────────────────────────────┼─────────────────────────────┼─────────────────┤\n",
       "│ dense_2 (\u001b[38;5;33mDense\u001b[0m)                      │ (\u001b[38;5;45mNone\u001b[0m, \u001b[38;5;34m8\u001b[0m)                   │             \u001b[38;5;34m136\u001b[0m │\n",
       "├──────────────────────────────────────┼─────────────────────────────┼─────────────────┤\n",
       "│ dense_3 (\u001b[38;5;33mDense\u001b[0m)                      │ (\u001b[38;5;45mNone\u001b[0m, \u001b[38;5;34m4\u001b[0m)                   │              \u001b[38;5;34m36\u001b[0m │\n",
       "├──────────────────────────────────────┼─────────────────────────────┼─────────────────┤\n",
       "│ dense_4 (\u001b[38;5;33mDense\u001b[0m)                      │ (\u001b[38;5;45mNone\u001b[0m, \u001b[38;5;34m8\u001b[0m)                   │              \u001b[38;5;34m40\u001b[0m │\n",
       "├──────────────────────────────────────┼─────────────────────────────┼─────────────────┤\n",
       "│ dense_5 (\u001b[38;5;33mDense\u001b[0m)                      │ (\u001b[38;5;45mNone\u001b[0m, \u001b[38;5;34m16\u001b[0m)                  │             \u001b[38;5;34m144\u001b[0m │\n",
       "├──────────────────────────────────────┼─────────────────────────────┼─────────────────┤\n",
       "│ dense_6 (\u001b[38;5;33mDense\u001b[0m)                      │ (\u001b[38;5;45mNone\u001b[0m, \u001b[38;5;34m32\u001b[0m)                  │             \u001b[38;5;34m544\u001b[0m │\n",
       "├──────────────────────────────────────┼─────────────────────────────┼─────────────────┤\n",
       "│ dense_7 (\u001b[38;5;33mDense\u001b[0m)                      │ (\u001b[38;5;45mNone\u001b[0m, \u001b[38;5;34m29\u001b[0m)                  │             \u001b[38;5;34m957\u001b[0m │\n",
       "└──────────────────────────────────────┴─────────────────────────────┴─────────────────┘\n"
      ]
     },
     "metadata": {},
     "output_type": "display_data"
    },
    {
     "data": {
      "text/html": [
       "<pre style=\"white-space:pre;overflow-x:auto;line-height:normal;font-family:Menlo,'DejaVu Sans Mono',consolas,'Courier New',monospace\"><span style=\"font-weight: bold\"> Total params: </span><span style=\"color: #00af00; text-decoration-color: #00af00\">3,345</span> (13.07 KB)\n",
       "</pre>\n"
      ],
      "text/plain": [
       "\u001b[1m Total params: \u001b[0m\u001b[38;5;34m3,345\u001b[0m (13.07 KB)\n"
      ]
     },
     "metadata": {},
     "output_type": "display_data"
    },
    {
     "data": {
      "text/html": [
       "<pre style=\"white-space:pre;overflow-x:auto;line-height:normal;font-family:Menlo,'DejaVu Sans Mono',consolas,'Courier New',monospace\"><span style=\"font-weight: bold\"> Trainable params: </span><span style=\"color: #00af00; text-decoration-color: #00af00\">3,345</span> (13.07 KB)\n",
       "</pre>\n"
      ],
      "text/plain": [
       "\u001b[1m Trainable params: \u001b[0m\u001b[38;5;34m3,345\u001b[0m (13.07 KB)\n"
      ]
     },
     "metadata": {},
     "output_type": "display_data"
    },
    {
     "data": {
      "text/html": [
       "<pre style=\"white-space:pre;overflow-x:auto;line-height:normal;font-family:Menlo,'DejaVu Sans Mono',consolas,'Courier New',monospace\"><span style=\"font-weight: bold\"> Non-trainable params: </span><span style=\"color: #00af00; text-decoration-color: #00af00\">0</span> (0.00 B)\n",
       "</pre>\n"
      ],
      "text/plain": [
       "\u001b[1m Non-trainable params: \u001b[0m\u001b[38;5;34m0\u001b[0m (0.00 B)\n"
      ]
     },
     "metadata": {},
     "output_type": "display_data"
    }
   ],
   "source": [
    "input_dim = X_train.shape[1]\n",
    "input_layer = Input(shape=(input_dim,))\n",
    "\n",
    "# Encoder\n",
    "encoded = Dense(32, activation='relu')(input_layer)\n",
    "encoded = Dense(16, activation='relu')(encoded)\n",
    "encoded = Dense(8, activation='relu')(encoded)\n",
    "bottleneck = Dense(4, activation='relu')(encoded)\n",
    "\n",
    "# Decoder\n",
    "decoded = Dense(8, activation='relu')(bottleneck)\n",
    "decoded = Dense(16, activation='relu')(decoded)\n",
    "decoded = Dense(32, activation='relu')(decoded)\n",
    "decoded = Dense(input_dim, activation='linear')(decoded)\n",
    "\n",
    "autoencoder = Model(inputs=input_layer, outputs=decoded)\n",
    "autoencoder.compile(optimizer=Adam(learning_rate=0.001), loss='mse')\n",
    "\n",
    "autoencoder.summary()"
   ]
  },
  {
   "cell_type": "code",
   "execution_count": 81,
   "id": "1188d433-2b11-425d-898c-6b581bb91ec4",
   "metadata": {},
   "outputs": [],
   "source": [
    "#Train Autoencoder"
   ]
  },
  {
   "cell_type": "code",
   "execution_count": 83,
   "id": "f8c7e0c1-f1ba-4ed4-a5f0-a8f5223c98f8",
   "metadata": {},
   "outputs": [
    {
     "name": "stdout",
     "output_type": "stream",
     "text": [
      "Epoch 1/100\n",
      "711/711 - 14s - 20ms/step - loss: 0.8494 - val_loss: 0.7651\n",
      "Epoch 2/100\n",
      "711/711 - 2s - 3ms/step - loss: 0.6791 - val_loss: 0.6434\n",
      "Epoch 3/100\n",
      "711/711 - 2s - 3ms/step - loss: 0.6096 - val_loss: 0.6071\n",
      "Epoch 4/100\n",
      "711/711 - 2s - 3ms/step - loss: 0.5817 - val_loss: 0.5819\n",
      "Epoch 5/100\n",
      "711/711 - 2s - 3ms/step - loss: 0.5566 - val_loss: 0.5549\n",
      "Epoch 6/100\n",
      "711/711 - 2s - 3ms/step - loss: 0.5395 - val_loss: 0.5389\n",
      "Epoch 7/100\n",
      "711/711 - 2s - 3ms/step - loss: 0.5262 - val_loss: 0.5264\n",
      "Epoch 8/100\n",
      "711/711 - 2s - 3ms/step - loss: 0.5145 - val_loss: 0.5172\n",
      "Epoch 9/100\n",
      "711/711 - 2s - 3ms/step - loss: 0.5113 - val_loss: 0.5081\n",
      "Epoch 10/100\n",
      "711/711 - 3s - 4ms/step - loss: 0.4985 - val_loss: 0.5065\n",
      "Epoch 11/100\n",
      "711/711 - 2s - 3ms/step - loss: 0.4940 - val_loss: 0.4974\n",
      "Epoch 12/100\n",
      "711/711 - 3s - 4ms/step - loss: 0.4895 - val_loss: 0.4929\n",
      "Epoch 13/100\n",
      "711/711 - 3s - 4ms/step - loss: 0.4862 - val_loss: 0.4887\n",
      "Epoch 14/100\n",
      "711/711 - 3s - 4ms/step - loss: 0.4822 - val_loss: 0.4868\n",
      "Epoch 15/100\n",
      "711/711 - 3s - 4ms/step - loss: 0.4778 - val_loss: 0.4826\n",
      "Epoch 16/100\n",
      "711/711 - 3s - 4ms/step - loss: 0.4752 - val_loss: 0.4782\n",
      "Epoch 17/100\n",
      "711/711 - 3s - 4ms/step - loss: 0.4710 - val_loss: 0.4773\n",
      "Epoch 18/100\n",
      "711/711 - 3s - 4ms/step - loss: 0.4671 - val_loss: 0.4737\n",
      "Epoch 19/100\n",
      "711/711 - 2s - 3ms/step - loss: 0.4639 - val_loss: 0.4697\n",
      "Epoch 20/100\n",
      "711/711 - 2s - 3ms/step - loss: 0.4610 - val_loss: 0.4658\n",
      "Epoch 21/100\n",
      "711/711 - 2s - 3ms/step - loss: 0.4579 - val_loss: 0.4619\n",
      "Epoch 22/100\n",
      "711/711 - 2s - 3ms/step - loss: 0.4541 - val_loss: 0.4590\n",
      "Epoch 23/100\n",
      "711/711 - 2s - 3ms/step - loss: 0.4529 - val_loss: 0.4550\n",
      "Epoch 24/100\n",
      "711/711 - 2s - 3ms/step - loss: 0.4485 - val_loss: 0.4697\n",
      "Epoch 25/100\n",
      "711/711 - 2s - 3ms/step - loss: 0.4458 - val_loss: 0.4499\n",
      "Epoch 26/100\n",
      "711/711 - 2s - 3ms/step - loss: 0.4436 - val_loss: 0.4486\n",
      "Epoch 27/100\n",
      "711/711 - 2s - 3ms/step - loss: 0.4417 - val_loss: 0.4478\n",
      "Epoch 28/100\n",
      "711/711 - 2s - 3ms/step - loss: 0.4388 - val_loss: 0.4432\n",
      "Epoch 29/100\n",
      "711/711 - 2s - 3ms/step - loss: 0.4368 - val_loss: 0.4390\n",
      "Epoch 30/100\n",
      "711/711 - 2s - 3ms/step - loss: 0.4340 - val_loss: 0.4369\n",
      "Epoch 31/100\n",
      "711/711 - 2s - 3ms/step - loss: 0.4319 - val_loss: 0.4358\n",
      "Epoch 32/100\n",
      "711/711 - 2s - 2ms/step - loss: 0.4308 - val_loss: 0.4481\n",
      "Epoch 33/100\n",
      "711/711 - 2s - 2ms/step - loss: 0.4298 - val_loss: 0.4310\n",
      "Epoch 34/100\n",
      "711/711 - 2s - 2ms/step - loss: 0.4266 - val_loss: 0.4322\n",
      "Epoch 35/100\n",
      "711/711 - 2s - 2ms/step - loss: 0.4262 - val_loss: 0.4302\n",
      "Epoch 36/100\n",
      "711/711 - 2s - 2ms/step - loss: 0.4235 - val_loss: 0.4277\n",
      "Epoch 37/100\n",
      "711/711 - 2s - 2ms/step - loss: 0.4217 - val_loss: 0.4439\n",
      "Epoch 38/100\n",
      "711/711 - 2s - 2ms/step - loss: 0.4207 - val_loss: 0.4273\n",
      "Epoch 39/100\n",
      "711/711 - 2s - 2ms/step - loss: 0.4191 - val_loss: 0.4262\n",
      "Epoch 40/100\n",
      "711/711 - 2s - 3ms/step - loss: 0.4191 - val_loss: 0.4245\n",
      "Epoch 41/100\n",
      "711/711 - 2s - 3ms/step - loss: 0.4168 - val_loss: 0.4267\n",
      "Epoch 42/100\n",
      "711/711 - 2s - 3ms/step - loss: 0.4168 - val_loss: 0.4225\n",
      "Epoch 43/100\n",
      "711/711 - 2s - 3ms/step - loss: 0.4157 - val_loss: 0.4214\n",
      "Epoch 44/100\n",
      "711/711 - 2s - 3ms/step - loss: 0.4194 - val_loss: 0.4186\n",
      "Epoch 45/100\n",
      "711/711 - 2s - 2ms/step - loss: 0.4123 - val_loss: 0.4197\n",
      "Epoch 46/100\n",
      "711/711 - 2s - 2ms/step - loss: 0.4126 - val_loss: 0.4217\n",
      "Epoch 47/100\n",
      "711/711 - 2s - 3ms/step - loss: 0.4120 - val_loss: 0.4169\n",
      "Epoch 48/100\n",
      "711/711 - 2s - 3ms/step - loss: 0.4106 - val_loss: 0.4173\n",
      "Epoch 49/100\n",
      "711/711 - 2s - 3ms/step - loss: 0.4100 - val_loss: 0.4161\n",
      "Epoch 50/100\n",
      "711/711 - 2s - 2ms/step - loss: 0.4091 - val_loss: 0.4172\n",
      "Epoch 51/100\n",
      "711/711 - 2s - 2ms/step - loss: 0.4085 - val_loss: 0.4151\n",
      "Epoch 52/100\n",
      "711/711 - 2s - 2ms/step - loss: 0.4077 - val_loss: 0.4132\n",
      "Epoch 53/100\n",
      "711/711 - 2s - 2ms/step - loss: 0.4079 - val_loss: 0.4137\n",
      "Epoch 54/100\n",
      "711/711 - 2s - 2ms/step - loss: 0.4064 - val_loss: 0.4117\n",
      "Epoch 55/100\n",
      "711/711 - 2s - 2ms/step - loss: 0.4050 - val_loss: 0.4184\n",
      "Epoch 56/100\n",
      "711/711 - 2s - 2ms/step - loss: 0.4058 - val_loss: 0.4171\n",
      "Epoch 57/100\n",
      "711/711 - 2s - 2ms/step - loss: 0.4041 - val_loss: 0.4090\n",
      "Epoch 58/100\n",
      "711/711 - 2s - 3ms/step - loss: 0.4029 - val_loss: 0.4093\n",
      "Epoch 59/100\n",
      "711/711 - 2s - 3ms/step - loss: 0.4024 - val_loss: 0.4080\n",
      "Epoch 60/100\n",
      "711/711 - 2s - 3ms/step - loss: 0.4015 - val_loss: 0.4075\n",
      "Epoch 61/100\n",
      "711/711 - 2s - 3ms/step - loss: 0.4018 - val_loss: 0.4063\n",
      "Epoch 62/100\n",
      "711/711 - 2s - 3ms/step - loss: 0.4005 - val_loss: 0.4136\n",
      "Epoch 63/100\n",
      "711/711 - 2s - 3ms/step - loss: 0.4010 - val_loss: 0.4057\n",
      "Epoch 64/100\n",
      "711/711 - 2s - 3ms/step - loss: 0.3997 - val_loss: 0.4086\n",
      "Epoch 65/100\n",
      "711/711 - 2s - 3ms/step - loss: 0.3986 - val_loss: 0.4058\n",
      "Epoch 66/100\n",
      "711/711 - 2s - 3ms/step - loss: 0.3984 - val_loss: 0.4119\n",
      "Epoch 67/100\n",
      "711/711 - 2s - 2ms/step - loss: 0.4004 - val_loss: 0.4175\n",
      "Epoch 68/100\n",
      "711/711 - 2s - 2ms/step - loss: 0.3974 - val_loss: 0.4029\n",
      "Epoch 69/100\n",
      "711/711 - 3s - 4ms/step - loss: 0.3962 - val_loss: 0.4028\n",
      "Epoch 70/100\n",
      "711/711 - 2s - 3ms/step - loss: 0.3961 - val_loss: 0.4010\n",
      "Epoch 71/100\n",
      "711/711 - 2s - 2ms/step - loss: 0.3955 - val_loss: 0.4019\n",
      "Epoch 72/100\n",
      "711/711 - 2s - 3ms/step - loss: 0.3950 - val_loss: 0.4007\n",
      "Epoch 73/100\n",
      "711/711 - 2s - 2ms/step - loss: 0.3944 - val_loss: 0.4033\n",
      "Epoch 74/100\n",
      "711/711 - 2s - 2ms/step - loss: 0.3946 - val_loss: 0.4010\n",
      "Epoch 75/100\n",
      "711/711 - 2s - 3ms/step - loss: 0.3942 - val_loss: 0.4000\n",
      "Epoch 76/100\n",
      "711/711 - 2s - 2ms/step - loss: 0.3938 - val_loss: 0.4005\n",
      "Epoch 77/100\n",
      "711/711 - 2s - 3ms/step - loss: 0.3925 - val_loss: 0.3993\n",
      "Epoch 78/100\n",
      "711/711 - 2s - 3ms/step - loss: 0.3930 - val_loss: 0.4155\n",
      "Epoch 79/100\n",
      "711/711 - 2s - 3ms/step - loss: 0.3919 - val_loss: 0.3982\n",
      "Epoch 80/100\n",
      "711/711 - 2s - 2ms/step - loss: 0.3910 - val_loss: 0.3992\n",
      "Epoch 81/100\n",
      "711/711 - 2s - 2ms/step - loss: 0.3907 - val_loss: 0.3983\n",
      "Epoch 82/100\n",
      "711/711 - 2s - 2ms/step - loss: 0.3911 - val_loss: 0.3961\n",
      "Epoch 83/100\n",
      "711/711 - 2s - 2ms/step - loss: 0.3911 - val_loss: 0.3979\n",
      "Epoch 84/100\n",
      "711/711 - 2s - 2ms/step - loss: 0.3902 - val_loss: 0.3968\n",
      "Epoch 85/100\n",
      "711/711 - 2s - 2ms/step - loss: 0.3909 - val_loss: 0.3974\n",
      "Epoch 86/100\n",
      "711/711 - 2s - 2ms/step - loss: 0.3902 - val_loss: 0.3977\n",
      "Epoch 87/100\n",
      "711/711 - 2s - 3ms/step - loss: 0.3897 - val_loss: 0.3986\n",
      "Epoch 88/100\n",
      "711/711 - 2s - 3ms/step - loss: 0.3905 - val_loss: 0.3940\n",
      "Epoch 89/100\n",
      "711/711 - 2s - 3ms/step - loss: 0.3882 - val_loss: 0.3949\n",
      "Epoch 90/100\n",
      "711/711 - 2s - 3ms/step - loss: 0.3880 - val_loss: 0.3948\n",
      "Epoch 91/100\n",
      "711/711 - 2s - 2ms/step - loss: 0.3885 - val_loss: 0.3954\n",
      "Epoch 92/100\n",
      "711/711 - 2s - 3ms/step - loss: 0.3886 - val_loss: 0.3931\n",
      "Epoch 93/100\n",
      "711/711 - 2s - 2ms/step - loss: 0.3878 - val_loss: 0.3934\n",
      "Epoch 94/100\n",
      "711/711 - 2s - 3ms/step - loss: 0.3870 - val_loss: 0.3924\n",
      "Epoch 95/100\n",
      "711/711 - 2s - 2ms/step - loss: 0.3869 - val_loss: 0.3958\n",
      "Epoch 96/100\n",
      "711/711 - 2s - 2ms/step - loss: 0.3862 - val_loss: 0.3941\n",
      "Epoch 97/100\n",
      "711/711 - 2s - 2ms/step - loss: 0.3865 - val_loss: 0.3922\n",
      "Epoch 98/100\n",
      "711/711 - 2s - 2ms/step - loss: 0.3855 - val_loss: 0.3912\n",
      "Epoch 99/100\n",
      "711/711 - 2s - 2ms/step - loss: 0.3854 - val_loss: 0.4117\n",
      "Epoch 100/100\n",
      "711/711 - 2s - 3ms/step - loss: 0.3865 - val_loss: 0.3905\n"
     ]
    }
   ],
   "source": [
    "early_stopping = EarlyStopping(monitor='val_loss', patience=10, restore_best_weights=True)\n",
    "checkpoint = ModelCheckpoint('models/autoencoder_creditcard_model.keras', save_best_only=True, monitor='val_loss')\n",
    "\n",
    "history = autoencoder.fit(\n",
    "    X_train, X_train,\n",
    "    epochs=100,\n",
    "    batch_size=256,\n",
    "    validation_split=0.2,\n",
    "    callbacks=[early_stopping, checkpoint],\n",
    "    verbose=2\n",
    ")"
   ]
  },
  {
   "cell_type": "code",
   "execution_count": 85,
   "id": "f6bf4487-8bfc-42da-889f-5dc3f10e4043",
   "metadata": {},
   "outputs": [],
   "source": [
    "#Plot Training Loss"
   ]
  },
  {
   "cell_type": "code",
   "execution_count": 87,
   "id": "679b0345-9969-4c9f-962b-102a974471bc",
   "metadata": {},
   "outputs": [
    {
     "data": {
      "image/png": "[encoded data removed]",
      "text/plain": [
       "<Figure size 800x500 with 1 Axes>"
      ]
     },
     "metadata": {},
     "output_type": "display_data"
    }
   ],
   "source": [
    "plt.figure(figsize=(8,5))\n",
    "plt.plot(history.history['loss'], label='Train Loss')\n",
    "plt.plot(history.history['val_loss'], label='Validation Loss')\n",
    "plt.title('Autoencoder Training Loss')\n",
    "plt.xlabel('Epoch')\n",
    "plt.ylabel('Loss (MSE)')\n",
    "plt.legend()\n",
    "plt.show()"
   ]
  },
  {
   "cell_type": "code",
   "execution_count": 89,
   "id": "3630078a-4f5a-4525-bb6c-6f5f5367080a",
   "metadata": {},
   "outputs": [],
   "source": [
    "#Calculate Reconstruction Errors on Test Set"
   ]
  },
  {
   "cell_type": "code",
   "execution_count": 91,
   "id": "6e4c3495-169b-4ebb-8d71-46d48de629b8",
   "metadata": {},
   "outputs": [
    {
     "name": "stdout",
     "output_type": "stream",
     "text": [
      "\u001b[1m1793/1793\u001b[0m \u001b[32m━━━━━━━━━━━━━━━━━━━━\u001b[0m\u001b[37m\u001b[0m \u001b[1m3s\u001b[0m 1ms/step\n"
     ]
    }
   ],
   "source": [
    "X_test_pred = autoencoder.predict(X_test)\n",
    "reconstruction_errors = np.mean(np.power(X_test - X_test_pred, 2), axis=1)"
   ]
  },
  {
   "cell_type": "code",
   "execution_count": null,
   "id": "d046eeed-cacb-48c6-9c2c-4f6e59778aae",
   "metadata": {},
   "outputs": [],
   "source": [
    "#Determine Threshold"
   ]
  },
  {
   "cell_type": "code",
   "execution_count": 93,
   "id": "743ae623-e1dc-4347-9576-e454c6eef3fb",
   "metadata": {},
   "outputs": [
    {
     "name": "stdout",
     "output_type": "stream",
     "text": [
      "\u001b[1m7108/7108\u001b[0m \u001b[32m━━━━━━━━━━━━━━━━━━━━\u001b[0m\u001b[37m\u001b[0m \u001b[1m9s\u001b[0m 1ms/step\n",
      "\n",
      " Reconstruction error threshold (95th percentile): 0.977389\n"
     ]
    }
   ],
   "source": [
    "X_train_pred = autoencoder.predict(X_train)\n",
    "train_errors = np.mean(np.power(X_train - X_train_pred, 2), axis=1)\n",
    "threshold = np.percentile(train_errors, 95)\n",
    "print(f\"\\n Reconstruction error threshold (95th percentile): {threshold:.6f}\")"
   ]
  },
  {
   "cell_type": "code",
   "execution_count": null,
   "id": "0bc2984a-8809-4eba-af4f-ddb6375e71a4",
   "metadata": {},
   "outputs": [],
   "source": [
    "#Plot Reconstruction Error Distribution"
   ]
  },
  {
   "cell_type": "code",
   "execution_count": 95,
   "id": "559109cd-e7ea-42b5-91a5-28ecf75581ed",
   "metadata": {},
   "outputs": [
    {
     "data": {
      "image/png": "[encoded data removed]",
      "text/plain": [
       "<Figure size 1000x600 with 1 Axes>"
      ]
     },
     "metadata": {},
     "output_type": "display_data"
    }
   ],
   "source": [
    "plt.figure(figsize=(10,6))\n",
    "sns.histplot(reconstruction_errors[y_test == 0], bins=50, color='blue', label='Normal')\n",
    "sns.histplot(reconstruction_errors[y_test == 1], bins=50, color='red', label='Fraud')\n",
    "plt.axvline(threshold, color='black', linestyle='--', label='Threshold')\n",
    "plt.title('Reconstruction Error Distribution')\n",
    "plt.xlabel('Reconstruction Error (MSE)')\n",
    "plt.ylabel('Count')\n",
    "plt.legend()\n",
    "plt.show()"
   ]
  },
  {
   "cell_type": "code",
   "execution_count": 97,
   "id": "a46ee65c-e060-4c8c-98f3-d929f2c1ca55",
   "metadata": {},
   "outputs": [],
   "source": [
    "#Make Predictions Based on Threshold"
   ]
  },
  {
   "cell_type": "code",
   "execution_count": 99,
   "id": "4b801ab8-6800-42b0-83b9-405e440cf51a",
   "metadata": {},
   "outputs": [],
   "source": [
    "y_pred = (reconstruction_errors > threshold).astype(int)"
   ]
  },
  {
   "cell_type": "code",
   "execution_count": 101,
   "id": "ae346d25-1555-4d07-ba30-2618cc2a6235",
   "metadata": {},
   "outputs": [],
   "source": [
    "#Evaluate Model Performance"
   ]
  },
  {
   "cell_type": "code",
   "execution_count": 105,
   "id": "0278729a-a160-4d60-a2f9-2c57de5d5658",
   "metadata": {},
   "outputs": [
    {
     "name": "stdout",
     "output_type": "stream",
     "text": [
      "\n",
      " Evaluation Metrics:\n",
      "Precision: 0.1267\n",
      "Recall:    0.8516\n",
      "F1 Score:  0.2205\n",
      "ROC AUC:   0.9472\n",
      "Confusion Matrix:\n",
      " [[53974  2889]\n",
      " [   73   419]]\n"
     ]
    }
   ],
   "source": [
    "precision = precision_score(y_test, y_pred)\n",
    "recall = recall_score(y_test, y_pred)\n",
    "f1 = f1_score(y_test, y_pred)\n",
    "roc_auc = roc_auc_score(y_test, reconstruction_errors)\n",
    "cm = confusion_matrix(y_test, y_pred)\n",
    "\n",
    "print(\"\\n Evaluation Metrics:\")\n",
    "print(f\"Precision: {precision:.4f}\")\n",
    "print(f\"Recall:    {recall:.4f}\")\n",
    "print(f\"F1 Score:  {f1:.4f}\")\n",
    "print(f\"ROC AUC:   {roc_auc:.4f}\")\n",
    "print(\"Confusion Matrix:\\n\", cm)"
   ]
  },
  {
   "cell_type": "code",
   "execution_count": null,
   "id": "9e968a6a-d824-42f4-9507-16ebf886bf82",
   "metadata": {},
   "outputs": [],
   "source": []
  }
 ],
 "metadata": {
  "kernelspec": {
   "display_name": "Python [conda env:base] *",
   "language": "python",
   "name": "conda-base-py"
  },
  "language_info": {
   "codemirror_mode": {
    "name": "ipython",
    "version": 3
   },
   "file_extension": ".py",
   "mimetype": "text/x-python",
   "name": "python",
   "nbconvert_exporter": "python",
   "pygments_lexer": "ipython3",
   "version": "3.12.7"
  }
 },
 "nbformat": 4,
 "nbformat_minor": 5
}
