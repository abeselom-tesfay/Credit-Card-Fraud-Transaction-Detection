{
 "cells": [
  {
   "cell_type": "code",
   "execution_count": 150,
   "id": "21510ce3-6568-4c8d-b660-4fb376aab222",
   "metadata": {},
   "outputs": [],
   "source": [
    "#Import Libraries"
   ]
  },
  {
   "cell_type": "code",
   "execution_count": 1,
   "id": "b656ed11-b8cb-4c2d-84f7-76a5a1b0f5c0",
   "metadata": {},
   "outputs": [],
   "source": [
    "import numpy as np\n",
    "import pandas as pd\n",
    "import matplotlib.pyplot as plt\n",
    "import seaborn as sns\n",
    "\n",
    "from sklearn.preprocessing import StandardScaler\n",
    "from sklearn.model_selection import train_test_split\n",
    "from sklearn.metrics import (\n",
    "    precision_score, recall_score, f1_score, roc_auc_score,\n",
    "    confusion_matrix, roc_curve, auc\n",
    ")\n",
    "\n",
    "import tensorflow as tf\n",
    "from tensorflow.keras.models import Model\n",
    "from tensorflow.keras.layers import Input, Dense, Dropout, BatchNormalization\n",
    "from tensorflow.keras.optimizers import Adam\n",
    "from tensorflow.keras.callbacks import EarlyStopping, ModelCheckpoint\n",
    "from tensorflow.keras.regularizers import l1_l2"
   ]
  },
  {
   "cell_type": "code",
   "execution_count": 3,
   "id": "03aeacdf-48dd-464b-9074-90381e5fd783",
   "metadata": {},
   "outputs": [],
   "source": [
    "#Load and Inspect Dataset"
   ]
  },
  {
   "cell_type": "code",
   "execution_count": 5,
   "id": "954df3c9-7622-46fa-8cc6-3d2eabc974ea",
   "metadata": {},
   "outputs": [],
   "source": [
    "data = pd.read_csv('data/creditcard.csv')"
   ]
  },
  {
   "cell_type": "code",
   "execution_count": 6,
   "id": "12ce39d7-3ee3-4263-a4a0-906068939ed0",
   "metadata": {},
   "outputs": [
    {
     "name": "stdout",
     "output_type": "stream",
     "text": [
      "First 5 rows of the dataset:\n",
      "   Time        V1        V2        V3        V4        V5        V6        V7  \\\n",
      "0   0.0 -1.359807 -0.072781  2.536347  1.378155 -0.338321  0.462388  0.239599   \n",
      "1   0.0  1.191857  0.266151  0.166480  0.448154  0.060018 -0.082361 -0.078803   \n",
      "2   1.0 -1.358354 -1.340163  1.773209  0.379780 -0.503198  1.800499  0.791461   \n",
      "3   1.0 -0.966272 -0.185226  1.792993 -0.863291 -0.010309  1.247203  0.237609   \n",
      "4   2.0 -1.158233  0.877737  1.548718  0.403034 -0.407193  0.095921  0.592941   \n",
      "\n",
      "         V8        V9  ...       V21       V22       V23       V24       V25  \\\n",
      "0  0.098698  0.363787  ... -0.018307  0.277838 -0.110474  0.066928  0.128539   \n",
      "1  0.085102 -0.255425  ... -0.225775 -0.638672  0.101288 -0.339846  0.167170   \n",
      "2  0.247676 -1.514654  ...  0.247998  0.771679  0.909412 -0.689281 -0.327642   \n",
      "3  0.377436 -1.387024  ... -0.108300  0.005274 -0.190321 -1.175575  0.647376   \n",
      "4 -0.270533  0.817739  ... -0.009431  0.798278 -0.137458  0.141267 -0.206010   \n",
      "\n",
      "        V26       V27       V28  Amount  Class  \n",
      "0 -0.189115  0.133558 -0.021053  149.62      0  \n",
      "1  0.125895 -0.008983  0.014724    2.69      0  \n",
      "2 -0.139097 -0.055353 -0.059752  378.66      0  \n",
      "3 -0.221929  0.062723  0.061458  123.50      0  \n",
      "4  0.502292  0.219422  0.215153   69.99      0  \n",
      "\n",
      "[5 rows x 31 columns]\n"
     ]
    }
   ],
   "source": [
    "# Basic exploration\n",
    "print(\"First 5 rows of the dataset:\")\n",
    "print(data.head())"
   ]
  },
  {
   "cell_type": "code",
   "execution_count": 8,
   "id": "6bdf9083-2a17-4904-8887-baf93bfa6621",
   "metadata": {},
   "outputs": [
    {
     "name": "stdout",
     "output_type": "stream",
     "text": [
      "\n",
      "Dataset Info:\n",
      "<class 'pandas.core.frame.DataFrame'>\n",
      "RangeIndex: 284807 entries, 0 to 284806\n",
      "Data columns (total 31 columns):\n",
      " #   Column  Non-Null Count   Dtype  \n",
      "---  ------  --------------   -----  \n",
      " 0   Time    284807 non-null  float64\n",
      " 1   V1      284807 non-null  float64\n",
      " 2   V2      284807 non-null  float64\n",
      " 3   V3      284807 non-null  float64\n",
      " 4   V4      284807 non-null  float64\n",
      " 5   V5      284807 non-null  float64\n",
      " 6   V6      284807 non-null  float64\n",
      " 7   V7      284807 non-null  float64\n",
      " 8   V8      284807 non-null  float64\n",
      " 9   V9      284807 non-null  float64\n",
      " 10  V10     284807 non-null  float64\n",
      " 11  V11     284807 non-null  float64\n",
      " 12  V12     284807 non-null  float64\n",
      " 13  V13     284807 non-null  float64\n",
      " 14  V14     284807 non-null  float64\n",
      " 15  V15     284807 non-null  float64\n",
      " 16  V16     284807 non-null  float64\n",
      " 17  V17     284807 non-null  float64\n",
      " 18  V18     284807 non-null  float64\n",
      " 19  V19     284807 non-null  float64\n",
      " 20  V20     284807 non-null  float64\n",
      " 21  V21     284807 non-null  float64\n",
      " 22  V22     284807 non-null  float64\n",
      " 23  V23     284807 non-null  float64\n",
      " 24  V24     284807 non-null  float64\n",
      " 25  V25     284807 non-null  float64\n",
      " 26  V26     284807 non-null  float64\n",
      " 27  V27     284807 non-null  float64\n",
      " 28  V28     284807 non-null  float64\n",
      " 29  Amount  284807 non-null  float64\n",
      " 30  Class   284807 non-null  int64  \n",
      "dtypes: float64(30), int64(1)\n",
      "memory usage: 67.4 MB\n",
      "None\n"
     ]
    }
   ],
   "source": [
    "print(\"\\nDataset Info:\")\n",
    "print(data.info())"
   ]
  },
  {
   "cell_type": "code",
   "execution_count": 11,
   "id": "cf005711-e7c5-428b-9a53-7cfde27d2dc6",
   "metadata": {},
   "outputs": [
    {
     "name": "stdout",
     "output_type": "stream",
     "text": [
      "\n",
      " Null value check:\n",
      "Time      0\n",
      "V1        0\n",
      "V2        0\n",
      "V3        0\n",
      "V4        0\n",
      "V5        0\n",
      "V6        0\n",
      "V7        0\n",
      "V8        0\n",
      "V9        0\n",
      "V10       0\n",
      "V11       0\n",
      "V12       0\n",
      "V13       0\n",
      "V14       0\n",
      "V15       0\n",
      "V16       0\n",
      "V17       0\n",
      "V18       0\n",
      "V19       0\n",
      "V20       0\n",
      "V21       0\n",
      "V22       0\n",
      "V23       0\n",
      "V24       0\n",
      "V25       0\n",
      "V26       0\n",
      "V27       0\n",
      "V28       0\n",
      "Amount    0\n",
      "Class     0\n",
      "dtype: int64\n"
     ]
    }
   ],
   "source": [
    "print(\"\\n Null value check:\")\n",
    "print(data.isnull().sum())"
   ]
  },
  {
   "cell_type": "code",
   "execution_count": 13,
   "id": "51fa5460-a25b-4657-a842-2e4469488c8d",
   "metadata": {},
   "outputs": [
    {
     "name": "stdout",
     "output_type": "stream",
     "text": [
      "\n",
      " Class distribution:\n",
      "Class\n",
      "0    284315\n",
      "1       492\n",
      "Name: count, dtype: int64\n"
     ]
    }
   ],
   "source": [
    "print(\"\\n Class distribution:\")\n",
    "print(data['Class'].value_counts())"
   ]
  },
  {
   "cell_type": "code",
   "execution_count": 15,
   "id": "3c21e69e-e59d-4d0f-b0fc-83d33a640513",
   "metadata": {},
   "outputs": [],
   "source": [
    "# Plotting the class distribution"
   ]
  },
  {
   "cell_type": "code",
   "execution_count": 21,
   "id": "2230d2e9-7a7e-4023-bf5a-9e31bb834b1e",
   "metadata": {},
   "outputs": [
    {
     "data": {
      "image/png": "[encoded data removed]",
      "text/plain": [
       "<Figure size 600x400 with 1 Axes>"
      ]
     },
     "metadata": {},
     "output_type": "display_data"
    }
   ],
   "source": [
    "plt.figure(figsize=(6, 4))\n",
    "sns.countplot(x='Class', data=data)\n",
    "plt.title('Distribution of Legit vs Fraudulent Transactions')\n",
    "plt.xlabel('Class (0 = Legit, 1 = Fraud)')\n",
    "plt.ylabel('Count')\n",
    "plt.show()"
   ]
  },
  {
   "cell_type": "code",
   "execution_count": 22,
   "id": "86d0f899-450c-42ac-b568-c9fd5b6860c3",
   "metadata": {},
   "outputs": [],
   "source": [
    "#Preprocessing"
   ]
  },
  {
   "cell_type": "code",
   "execution_count": 25,
   "id": "710dfd21-d620-4e98-98d5-5d1ec73c3b6d",
   "metadata": {},
   "outputs": [],
   "source": [
    "data = data.drop(columns=['Time'])\n",
    "\n",
    "scaler = StandardScaler()\n",
    "data['Amount'] = scaler.fit_transform(data[['Amount']])"
   ]
  },
  {
   "cell_type": "code",
   "execution_count": 27,
   "id": "f4045714-d357-4ddc-9ccc-8787b1786074",
   "metadata": {},
   "outputs": [],
   "source": [
    " #Separate normal and fraud transactions"
   ]
  },
  {
   "cell_type": "code",
   "execution_count": 29,
   "id": "50233018-b947-4997-b7d8-29f3de0f75a3",
   "metadata": {},
   "outputs": [],
   "source": [
    "data_normal = data[data['Class'] == 0]\n",
    "data_fraud = data[data['Class'] == 1]\n",
    "\n",
    "X_normal = data_normal.drop(columns=['Class'])\n",
    "X_fraud = data_fraud.drop(columns=['Class'])"
   ]
  },
  {
   "cell_type": "code",
   "execution_count": 31,
   "id": "e1bd71fe-1b1a-4d7b-903c-ff3812a52b09",
   "metadata": {},
   "outputs": [],
   "source": [
    "#Train-Test Split (only normal for training)"
   ]
  },
  {
   "cell_type": "code",
   "execution_count": 33,
   "id": "97e3a983-2b18-4eb3-9131-98b7c54457d3",
   "metadata": {},
   "outputs": [
    {
     "name": "stdout",
     "output_type": "stream",
     "text": [
      "\n",
      "Train normal samples shape: (227452, 29)\n",
      "Test set shape (normal + fraud): (57355, 29)\n"
     ]
    }
   ],
   "source": [
    "# Scale features\n",
    "scaler = StandardScaler()\n",
    "X_normal_scaled = scaler.fit_transform(X_normal)\n",
    "X_fraud_scaled = scaler.transform(X_fraud)\n",
    "\n",
    "# Train-test split on normal data\n",
    "X_train, X_test_normal = train_test_split(X_normal_scaled, test_size=0.2, random_state=42)\n",
    "\n",
    "# Combine test set\n",
    "X_test = np.vstack([X_test_normal, X_fraud_scaled])\n",
    "y_test = np.hstack([np.zeros(len(X_test_normal)), np.ones(len(X_fraud_scaled))])\n",
    "\n",
    "print(f\"\\nTrain normal samples shape: {X_train.shape}\")\n",
    "print(f\"Test set shape (normal + fraud): {X_test.shape}\")"
   ]
  },
  {
   "cell_type": "code",
   "execution_count": 35,
   "id": "e2f1d00a-febe-43c1-934b-d8e372e45227",
   "metadata": {},
   "outputs": [],
   "source": [
    "# Autoencoder Model"
   ]
  },
  {
   "cell_type": "code",
   "execution_count": 37,
   "id": "843186be-b686-4605-aa52-2b68a59a5e90",
   "metadata": {},
   "outputs": [
    {
     "data": {
      "text/html": [
       "<pre style=\"white-space:pre;overflow-x:auto;line-height:normal;font-family:Menlo,'DejaVu Sans Mono',consolas,'Courier New',monospace\"><span style=\"font-weight: bold\">Model: \"functional\"</span>\n",
       "</pre>\n"
      ],
      "text/plain": [
       "\u001b[1mModel: \"functional\"\u001b[0m\n"
      ]
     },
     "metadata": {},
     "output_type": "display_data"
    },
    {
     "data": {
      "text/html": [
       "<pre style=\"white-space:pre;overflow-x:auto;line-height:normal;font-family:Menlo,'DejaVu Sans Mono',consolas,'Courier New',monospace\">┏━━━━━━━━━━━━━━━━━━━━━━━━━━━━━━━━━━━━━━┳━━━━━━━━━━━━━━━━━━━━━━━━━━━━━┳━━━━━━━━━━━━━━━━━┓\n",
       "┃<span style=\"font-weight: bold\"> Layer (type)                         </span>┃<span style=\"font-weight: bold\"> Output Shape                </span>┃<span style=\"font-weight: bold\">         Param # </span>┃\n",
       "┡━━━━━━━━━━━━━━━━━━━━━━━━━━━━━━━━━━━━━━╇━━━━━━━━━━━━━━━━━━━━━━━━━━━━━╇━━━━━━━━━━━━━━━━━┩\n",
       "│ input_layer (<span style=\"color: #0087ff; text-decoration-color: #0087ff\">InputLayer</span>)             │ (<span style=\"color: #00d7ff; text-decoration-color: #00d7ff\">None</span>, <span style=\"color: #00af00; text-decoration-color: #00af00\">29</span>)                  │               <span style=\"color: #00af00; text-decoration-color: #00af00\">0</span> │\n",
       "├──────────────────────────────────────┼─────────────────────────────┼─────────────────┤\n",
       "│ dense (<span style=\"color: #0087ff; text-decoration-color: #0087ff\">Dense</span>)                        │ (<span style=\"color: #00d7ff; text-decoration-color: #00d7ff\">None</span>, <span style=\"color: #00af00; text-decoration-color: #00af00\">64</span>)                  │           <span style=\"color: #00af00; text-decoration-color: #00af00\">1,920</span> │\n",
       "├──────────────────────────────────────┼─────────────────────────────┼─────────────────┤\n",
       "│ batch_normalization                  │ (<span style=\"color: #00d7ff; text-decoration-color: #00d7ff\">None</span>, <span style=\"color: #00af00; text-decoration-color: #00af00\">64</span>)                  │             <span style=\"color: #00af00; text-decoration-color: #00af00\">256</span> │\n",
       "│ (<span style=\"color: #0087ff; text-decoration-color: #0087ff\">BatchNormalization</span>)                 │                             │                 │\n",
       "├──────────────────────────────────────┼─────────────────────────────┼─────────────────┤\n",
       "│ dropout (<span style=\"color: #0087ff; text-decoration-color: #0087ff\">Dropout</span>)                    │ (<span style=\"color: #00d7ff; text-decoration-color: #00d7ff\">None</span>, <span style=\"color: #00af00; text-decoration-color: #00af00\">64</span>)                  │               <span style=\"color: #00af00; text-decoration-color: #00af00\">0</span> │\n",
       "├──────────────────────────────────────┼─────────────────────────────┼─────────────────┤\n",
       "│ dense_1 (<span style=\"color: #0087ff; text-decoration-color: #0087ff\">Dense</span>)                      │ (<span style=\"color: #00d7ff; text-decoration-color: #00d7ff\">None</span>, <span style=\"color: #00af00; text-decoration-color: #00af00\">32</span>)                  │           <span style=\"color: #00af00; text-decoration-color: #00af00\">2,080</span> │\n",
       "├──────────────────────────────────────┼─────────────────────────────┼─────────────────┤\n",
       "│ dense_2 (<span style=\"color: #0087ff; text-decoration-color: #0087ff\">Dense</span>)                      │ (<span style=\"color: #00d7ff; text-decoration-color: #00d7ff\">None</span>, <span style=\"color: #00af00; text-decoration-color: #00af00\">16</span>)                  │             <span style=\"color: #00af00; text-decoration-color: #00af00\">528</span> │\n",
       "├──────────────────────────────────────┼─────────────────────────────┼─────────────────┤\n",
       "│ dense_3 (<span style=\"color: #0087ff; text-decoration-color: #0087ff\">Dense</span>)                      │ (<span style=\"color: #00d7ff; text-decoration-color: #00d7ff\">None</span>, <span style=\"color: #00af00; text-decoration-color: #00af00\">8</span>)                   │             <span style=\"color: #00af00; text-decoration-color: #00af00\">136</span> │\n",
       "├──────────────────────────────────────┼─────────────────────────────┼─────────────────┤\n",
       "│ dense_4 (<span style=\"color: #0087ff; text-decoration-color: #0087ff\">Dense</span>)                      │ (<span style=\"color: #00d7ff; text-decoration-color: #00d7ff\">None</span>, <span style=\"color: #00af00; text-decoration-color: #00af00\">16</span>)                  │             <span style=\"color: #00af00; text-decoration-color: #00af00\">144</span> │\n",
       "├──────────────────────────────────────┼─────────────────────────────┼─────────────────┤\n",
       "│ dense_5 (<span style=\"color: #0087ff; text-decoration-color: #0087ff\">Dense</span>)                      │ (<span style=\"color: #00d7ff; text-decoration-color: #00d7ff\">None</span>, <span style=\"color: #00af00; text-decoration-color: #00af00\">32</span>)                  │             <span style=\"color: #00af00; text-decoration-color: #00af00\">544</span> │\n",
       "├──────────────────────────────────────┼─────────────────────────────┼─────────────────┤\n",
       "│ dropout_1 (<span style=\"color: #0087ff; text-decoration-color: #0087ff\">Dropout</span>)                  │ (<span style=\"color: #00d7ff; text-decoration-color: #00d7ff\">None</span>, <span style=\"color: #00af00; text-decoration-color: #00af00\">32</span>)                  │               <span style=\"color: #00af00; text-decoration-color: #00af00\">0</span> │\n",
       "├──────────────────────────────────────┼─────────────────────────────┼─────────────────┤\n",
       "│ dense_6 (<span style=\"color: #0087ff; text-decoration-color: #0087ff\">Dense</span>)                      │ (<span style=\"color: #00d7ff; text-decoration-color: #00d7ff\">None</span>, <span style=\"color: #00af00; text-decoration-color: #00af00\">64</span>)                  │           <span style=\"color: #00af00; text-decoration-color: #00af00\">2,112</span> │\n",
       "├──────────────────────────────────────┼─────────────────────────────┼─────────────────┤\n",
       "│ dense_7 (<span style=\"color: #0087ff; text-decoration-color: #0087ff\">Dense</span>)                      │ (<span style=\"color: #00d7ff; text-decoration-color: #00d7ff\">None</span>, <span style=\"color: #00af00; text-decoration-color: #00af00\">29</span>)                  │           <span style=\"color: #00af00; text-decoration-color: #00af00\">1,885</span> │\n",
       "└──────────────────────────────────────┴─────────────────────────────┴─────────────────┘\n",
       "</pre>\n"
      ],
      "text/plain": [
       "┏━━━━━━━━━━━━━━━━━━━━━━━━━━━━━━━━━━━━━━┳━━━━━━━━━━━━━━━━━━━━━━━━━━━━━┳━━━━━━━━━━━━━━━━━┓\n",
       "┃\u001b[1m \u001b[0m\u001b[1mLayer (type)                        \u001b[0m\u001b[1m \u001b[0m┃\u001b[1m \u001b[0m\u001b[1mOutput Shape               \u001b[0m\u001b[1m \u001b[0m┃\u001b[1m \u001b[0m\u001b[1m        Param #\u001b[0m\u001b[1m \u001b[0m┃\n",
       "┡━━━━━━━━━━━━━━━━━━━━━━━━━━━━━━━━━━━━━━╇━━━━━━━━━━━━━━━━━━━━━━━━━━━━━╇━━━━━━━━━━━━━━━━━┩\n",
       "│ input_layer (\u001b[38;5;33mInputLayer\u001b[0m)             │ (\u001b[38;5;45mNone\u001b[0m, \u001b[38;5;34m29\u001b[0m)                  │               \u001b[38;5;34m0\u001b[0m │\n",
       "├──────────────────────────────────────┼─────────────────────────────┼─────────────────┤\n",
       "│ dense (\u001b[38;5;33mDense\u001b[0m)                        │ (\u001b[38;5;45mNone\u001b[0m, \u001b[38;5;34m64\u001b[0m)                  │           \u001b[38;5;34m1,920\u001b[0m │\n",
       "├──────────────────────────────────────┼─────────────────────────────┼─────────────────┤\n",
       "│ batch_normalization                  │ (\u001b[38;5;45mNone\u001b[0m, \u001b[38;5;34m64\u001b[0m)                  │             \u001b[38;5;34m256\u001b[0m │\n",
       "│ (\u001b[38;5;33mBatchNormalization\u001b[0m)                 │                             │                 │\n",
       "├──────────────────────────────────────┼─────────────────────────────┼─────────────────┤\n",
       "│ dropout (\u001b[38;5;33mDropout\u001b[0m)                    │ (\u001b[38;5;45mNone\u001b[0m, \u001b[38;5;34m64\u001b[0m)                  │               \u001b[38;5;34m0\u001b[0m │\n",
       "├──────────────────────────────────────┼─────────────────────────────┼─────────────────┤\n",
       "│ dense_1 (\u001b[38;5;33mDense\u001b[0m)                      │ (\u001b[38;5;45mNone\u001b[0m, \u001b[38;5;34m32\u001b[0m)                  │           \u001b[38;5;34m2,080\u001b[0m │\n",
       "├──────────────────────────────────────┼─────────────────────────────┼─────────────────┤\n",
       "│ dense_2 (\u001b[38;5;33mDense\u001b[0m)                      │ (\u001b[38;5;45mNone\u001b[0m, \u001b[38;5;34m16\u001b[0m)                  │             \u001b[38;5;34m528\u001b[0m │\n",
       "├──────────────────────────────────────┼─────────────────────────────┼─────────────────┤\n",
       "│ dense_3 (\u001b[38;5;33mDense\u001b[0m)                      │ (\u001b[38;5;45mNone\u001b[0m, \u001b[38;5;34m8\u001b[0m)                   │             \u001b[38;5;34m136\u001b[0m │\n",
       "├──────────────────────────────────────┼─────────────────────────────┼─────────────────┤\n",
       "│ dense_4 (\u001b[38;5;33mDense\u001b[0m)                      │ (\u001b[38;5;45mNone\u001b[0m, \u001b[38;5;34m16\u001b[0m)                  │             \u001b[38;5;34m144\u001b[0m │\n",
       "├──────────────────────────────────────┼─────────────────────────────┼─────────────────┤\n",
       "│ dense_5 (\u001b[38;5;33mDense\u001b[0m)                      │ (\u001b[38;5;45mNone\u001b[0m, \u001b[38;5;34m32\u001b[0m)                  │             \u001b[38;5;34m544\u001b[0m │\n",
       "├──────────────────────────────────────┼─────────────────────────────┼─────────────────┤\n",
       "│ dropout_1 (\u001b[38;5;33mDropout\u001b[0m)                  │ (\u001b[38;5;45mNone\u001b[0m, \u001b[38;5;34m32\u001b[0m)                  │               \u001b[38;5;34m0\u001b[0m │\n",
       "├──────────────────────────────────────┼─────────────────────────────┼─────────────────┤\n",
       "│ dense_6 (\u001b[38;5;33mDense\u001b[0m)                      │ (\u001b[38;5;45mNone\u001b[0m, \u001b[38;5;34m64\u001b[0m)                  │           \u001b[38;5;34m2,112\u001b[0m │\n",
       "├──────────────────────────────────────┼─────────────────────────────┼─────────────────┤\n",
       "│ dense_7 (\u001b[38;5;33mDense\u001b[0m)                      │ (\u001b[38;5;45mNone\u001b[0m, \u001b[38;5;34m29\u001b[0m)                  │           \u001b[38;5;34m1,885\u001b[0m │\n",
       "└──────────────────────────────────────┴─────────────────────────────┴─────────────────┘\n"
      ]
     },
     "metadata": {},
     "output_type": "display_data"
    },
    {
     "data": {
      "text/html": [
       "<pre style=\"white-space:pre;overflow-x:auto;line-height:normal;font-family:Menlo,'DejaVu Sans Mono',consolas,'Courier New',monospace\"><span style=\"font-weight: bold\"> Total params: </span><span style=\"color: #00af00; text-decoration-color: #00af00\">9,605</span> (37.52 KB)\n",
       "</pre>\n"
      ],
      "text/plain": [
       "\u001b[1m Total params: \u001b[0m\u001b[38;5;34m9,605\u001b[0m (37.52 KB)\n"
      ]
     },
     "metadata": {},
     "output_type": "display_data"
    },
    {
     "data": {
      "text/html": [
       "<pre style=\"white-space:pre;overflow-x:auto;line-height:normal;font-family:Menlo,'DejaVu Sans Mono',consolas,'Courier New',monospace\"><span style=\"font-weight: bold\"> Trainable params: </span><span style=\"color: #00af00; text-decoration-color: #00af00\">9,477</span> (37.02 KB)\n",
       "</pre>\n"
      ],
      "text/plain": [
       "\u001b[1m Trainable params: \u001b[0m\u001b[38;5;34m9,477\u001b[0m (37.02 KB)\n"
      ]
     },
     "metadata": {},
     "output_type": "display_data"
    },
    {
     "data": {
      "text/html": [
       "<pre style=\"white-space:pre;overflow-x:auto;line-height:normal;font-family:Menlo,'DejaVu Sans Mono',consolas,'Courier New',monospace\"><span style=\"font-weight: bold\"> Non-trainable params: </span><span style=\"color: #00af00; text-decoration-color: #00af00\">128</span> (512.00 B)\n",
       "</pre>\n"
      ],
      "text/plain": [
       "\u001b[1m Non-trainable params: \u001b[0m\u001b[38;5;34m128\u001b[0m (512.00 B)\n"
      ]
     },
     "metadata": {},
     "output_type": "display_data"
    }
   ],
   "source": [
    "# Autoencoder Model\n",
    "input_dim = X_train.shape[1]\n",
    "input_layer = Input(shape=(input_dim,))\n",
    "\n",
    "# Encoder\n",
    "encoded = Dense(64, activation='relu', kernel_regularizer=l1_l2(1e-5, 1e-4))(input_layer)\n",
    "encoded = BatchNormalization()(encoded)\n",
    "encoded = Dropout(0.2)(encoded)\n",
    "encoded = Dense(32, activation='relu')(encoded)\n",
    "encoded = Dense(16, activation='relu')(encoded)\n",
    "bottleneck = Dense(8, activation='relu')(encoded)\n",
    "\n",
    "# Decoder\n",
    "decoded = Dense(16, activation='relu')(bottleneck)\n",
    "decoded = Dense(32, activation='relu')(decoded)\n",
    "decoded = Dropout(0.2)(decoded)\n",
    "decoded = Dense(64, activation='relu')(decoded)\n",
    "decoded = Dense(input_dim, activation='linear')(decoded)\n",
    "\n",
    "autoencoder = Model(inputs=input_layer, outputs=decoded)\n",
    "autoencoder.compile(optimizer=Adam(learning_rate=0.001), loss='mse')\n",
    "autoencoder.summary()"
   ]
  },
  {
   "cell_type": "code",
   "execution_count": 39,
   "id": "1188d433-2b11-425d-898c-6b581bb91ec4",
   "metadata": {},
   "outputs": [],
   "source": [
    "# Callbacks"
   ]
  },
  {
   "cell_type": "code",
   "execution_count": 40,
   "id": "f8c7e0c1-f1ba-4ed4-a5f0-a8f5223c98f8",
   "metadata": {},
   "outputs": [],
   "source": [
    "early_stopping = EarlyStopping(monitor='val_loss', patience=10, restore_best_weights=True)\n",
    "checkpoint = ModelCheckpoint('models/autoencoder_creditcard_model.keras', save_best_only=True, monitor='val_loss')"
   ]
  },
  {
   "cell_type": "code",
   "execution_count": 43,
   "id": "87de56c1-2268-4315-8626-43d75bef55f6",
   "metadata": {},
   "outputs": [],
   "source": [
    "# Train"
   ]
  },
  {
   "cell_type": "code",
   "execution_count": 45,
   "id": "858607d9-2080-4920-a6e4-51a3cae6979f",
   "metadata": {},
   "outputs": [
    {
     "name": "stdout",
     "output_type": "stream",
     "text": [
      "Epoch 1/100\n",
      "711/711 - 26s - 37ms/step - loss: 0.7608 - val_loss: 0.5800\n",
      "Epoch 2/100\n",
      "711/711 - 3s - 4ms/step - loss: 0.5858 - val_loss: 0.4680\n",
      "Epoch 3/100\n",
      "711/711 - 3s - 5ms/step - loss: 0.5214 - val_loss: 0.4163\n",
      "Epoch 4/100\n",
      "711/711 - 4s - 5ms/step - loss: 0.4871 - val_loss: 0.3926\n",
      "Epoch 5/100\n",
      "711/711 - 4s - 5ms/step - loss: 0.4624 - val_loss: 0.3630\n",
      "Epoch 6/100\n",
      "711/711 - 3s - 5ms/step - loss: 0.4368 - val_loss: 0.3362\n",
      "Epoch 7/100\n",
      "711/711 - 4s - 5ms/step - loss: 0.4246 - val_loss: 0.3179\n",
      "Epoch 8/100\n",
      "711/711 - 3s - 5ms/step - loss: 0.4104 - val_loss: 0.3110\n",
      "Epoch 9/100\n",
      "711/711 - 3s - 4ms/step - loss: 0.4004 - val_loss: 0.3057\n",
      "Epoch 10/100\n",
      "711/711 - 3s - 4ms/step - loss: 0.3922 - val_loss: 0.2929\n",
      "Epoch 11/100\n",
      "711/711 - 3s - 4ms/step - loss: 0.3835 - val_loss: 0.2937\n",
      "Epoch 12/100\n",
      "711/711 - 3s - 4ms/step - loss: 0.3754 - val_loss: 0.2837\n",
      "Epoch 13/100\n",
      "711/711 - 3s - 4ms/step - loss: 0.3712 - val_loss: 0.2841\n",
      "Epoch 14/100\n",
      "711/711 - 3s - 4ms/step - loss: 0.3638 - val_loss: 0.2756\n",
      "Epoch 15/100\n",
      "711/711 - 3s - 4ms/step - loss: 0.3572 - val_loss: 0.2698\n",
      "Epoch 16/100\n",
      "711/711 - 3s - 4ms/step - loss: 0.3538 - val_loss: 0.2668\n",
      "Epoch 17/100\n",
      "711/711 - 3s - 4ms/step - loss: 0.3498 - val_loss: 0.2629\n",
      "Epoch 18/100\n",
      "711/711 - 3s - 4ms/step - loss: 0.3478 - val_loss: 0.2619\n",
      "Epoch 19/100\n",
      "711/711 - 3s - 4ms/step - loss: 0.3450 - val_loss: 0.2584\n",
      "Epoch 20/100\n",
      "711/711 - 3s - 4ms/step - loss: 0.3383 - val_loss: 0.2566\n",
      "Epoch 21/100\n",
      "711/711 - 3s - 4ms/step - loss: 0.3364 - val_loss: 0.2609\n",
      "Epoch 22/100\n",
      "711/711 - 3s - 4ms/step - loss: 0.3338 - val_loss: 0.2592\n",
      "Epoch 23/100\n",
      "711/711 - 3s - 4ms/step - loss: 0.3284 - val_loss: 0.2504\n",
      "Epoch 24/100\n",
      "711/711 - 3s - 4ms/step - loss: 0.3275 - val_loss: 0.2532\n",
      "Epoch 25/100\n",
      "711/711 - 3s - 4ms/step - loss: 0.3263 - val_loss: 0.2460\n",
      "Epoch 26/100\n",
      "711/711 - 3s - 4ms/step - loss: 0.3246 - val_loss: 0.2476\n",
      "Epoch 27/100\n",
      "711/711 - 2s - 4ms/step - loss: 0.3218 - val_loss: 0.2477\n",
      "Epoch 28/100\n",
      "711/711 - 2s - 3ms/step - loss: 0.3196 - val_loss: 0.2473\n",
      "Epoch 29/100\n",
      "711/711 - 3s - 4ms/step - loss: 0.3193 - val_loss: 0.2419\n",
      "Epoch 30/100\n",
      "711/711 - 3s - 4ms/step - loss: 0.3166 - val_loss: 0.2432\n",
      "Epoch 31/100\n",
      "711/711 - 3s - 4ms/step - loss: 0.3150 - val_loss: 0.2397\n",
      "Epoch 32/100\n",
      "711/711 - 3s - 4ms/step - loss: 0.3146 - val_loss: 0.2484\n",
      "Epoch 33/100\n",
      "711/711 - 3s - 4ms/step - loss: 0.3151 - val_loss: 0.2419\n",
      "Epoch 34/100\n",
      "711/711 - 3s - 4ms/step - loss: 0.3118 - val_loss: 0.2369\n",
      "Epoch 35/100\n",
      "711/711 - 3s - 4ms/step - loss: 0.3074 - val_loss: 0.2351\n",
      "Epoch 36/100\n",
      "711/711 - 3s - 4ms/step - loss: 0.3078 - val_loss: 0.2408\n",
      "Epoch 37/100\n",
      "711/711 - 3s - 4ms/step - loss: 0.3053 - val_loss: 0.2342\n",
      "Epoch 38/100\n",
      "711/711 - 3s - 4ms/step - loss: 0.3069 - val_loss: 0.2354\n",
      "Epoch 39/100\n",
      "711/711 - 3s - 4ms/step - loss: 0.3047 - val_loss: 0.2360\n",
      "Epoch 40/100\n",
      "711/711 - 3s - 4ms/step - loss: 0.3022 - val_loss: 0.2298\n",
      "Epoch 41/100\n",
      "711/711 - 3s - 4ms/step - loss: 0.3003 - val_loss: 0.2295\n",
      "Epoch 42/100\n",
      "711/711 - 3s - 4ms/step - loss: 0.2986 - val_loss: 0.2260\n",
      "Epoch 43/100\n",
      "711/711 - 3s - 4ms/step - loss: 0.2999 - val_loss: 0.2280\n",
      "Epoch 44/100\n",
      "711/711 - 3s - 4ms/step - loss: 0.2952 - val_loss: 0.2272\n",
      "Epoch 45/100\n",
      "711/711 - 3s - 4ms/step - loss: 0.2946 - val_loss: 0.2218\n",
      "Epoch 46/100\n",
      "711/711 - 3s - 4ms/step - loss: 0.2939 - val_loss: 0.2223\n",
      "Epoch 47/100\n",
      "711/711 - 3s - 4ms/step - loss: 0.2899 - val_loss: 0.2226\n",
      "Epoch 48/100\n",
      "711/711 - 3s - 4ms/step - loss: 0.2897 - val_loss: 0.2215\n",
      "Epoch 49/100\n",
      "711/711 - 3s - 4ms/step - loss: 0.2891 - val_loss: 0.2150\n",
      "Epoch 50/100\n",
      "711/711 - 3s - 4ms/step - loss: 0.2890 - val_loss: 0.2169\n",
      "Epoch 51/100\n",
      "711/711 - 3s - 4ms/step - loss: 0.2896 - val_loss: 0.2197\n",
      "Epoch 52/100\n",
      "711/711 - 3s - 4ms/step - loss: 0.2870 - val_loss: 0.2184\n",
      "Epoch 53/100\n",
      "711/711 - 3s - 4ms/step - loss: 0.2879 - val_loss: 0.2183\n",
      "Epoch 54/100\n",
      "711/711 - 3s - 4ms/step - loss: 0.2853 - val_loss: 0.2193\n",
      "Epoch 55/100\n",
      "711/711 - 3s - 5ms/step - loss: 0.2850 - val_loss: 0.2235\n",
      "Epoch 56/100\n",
      "711/711 - 4s - 5ms/step - loss: 0.2864 - val_loss: 0.2138\n",
      "Epoch 57/100\n",
      "711/711 - 3s - 5ms/step - loss: 0.2840 - val_loss: 0.2141\n",
      "Epoch 58/100\n",
      "711/711 - 3s - 5ms/step - loss: 0.2835 - val_loss: 0.2156\n",
      "Epoch 59/100\n",
      "711/711 - 4s - 5ms/step - loss: 0.2840 - val_loss: 0.2164\n",
      "Epoch 60/100\n",
      "711/711 - 4s - 5ms/step - loss: 0.2835 - val_loss: 0.2127\n",
      "Epoch 61/100\n",
      "711/711 - 3s - 5ms/step - loss: 0.2820 - val_loss: 0.2133\n",
      "Epoch 62/100\n",
      "711/711 - 3s - 5ms/step - loss: 0.2807 - val_loss: 0.2184\n",
      "Epoch 63/100\n",
      "711/711 - 3s - 5ms/step - loss: 0.2808 - val_loss: 0.2154\n",
      "Epoch 64/100\n",
      "711/711 - 4s - 5ms/step - loss: 0.2810 - val_loss: 0.2095\n",
      "Epoch 65/100\n",
      "711/711 - 3s - 4ms/step - loss: 0.2784 - val_loss: 0.2141\n",
      "Epoch 66/100\n",
      "711/711 - 2s - 3ms/step - loss: 0.2832 - val_loss: 0.2141\n",
      "Epoch 67/100\n",
      "711/711 - 3s - 5ms/step - loss: 0.2780 - val_loss: 0.2169\n",
      "Epoch 68/100\n",
      "711/711 - 3s - 5ms/step - loss: 0.2771 - val_loss: 0.2137\n",
      "Epoch 69/100\n",
      "711/711 - 3s - 5ms/step - loss: 0.2757 - val_loss: 0.2147\n",
      "Epoch 70/100\n",
      "711/711 - 3s - 4ms/step - loss: 0.2751 - val_loss: 0.2191\n",
      "Epoch 71/100\n",
      "711/711 - 3s - 5ms/step - loss: 0.2769 - val_loss: 0.2197\n",
      "Epoch 72/100\n",
      "711/711 - 3s - 4ms/step - loss: 0.2741 - val_loss: 0.2208\n",
      "Epoch 73/100\n",
      "711/711 - 3s - 4ms/step - loss: 0.2734 - val_loss: 0.2186\n",
      "Epoch 74/100\n",
      "711/711 - 3s - 5ms/step - loss: 0.2744 - val_loss: 0.2167\n"
     ]
    }
   ],
   "source": [
    "history = autoencoder.fit(\n",
    "    X_train, X_train,\n",
    "    epochs=100,\n",
    "    batch_size=256,\n",
    "    validation_split=0.2,\n",
    "    callbacks=[early_stopping, checkpoint],\n",
    "    verbose=2\n",
    ")"
   ]
  },
  {
   "cell_type": "code",
   "execution_count": 188,
   "id": "f6bf4487-8bfc-42da-889f-5dc3f10e4043",
   "metadata": {},
   "outputs": [],
   "source": [
    "# Plot Loss"
   ]
  },
  {
   "cell_type": "code",
   "execution_count": 190,
   "id": "679b0345-9969-4c9f-962b-102a974471bc",
   "metadata": {},
   "outputs": [
    {
     "data": {
      "image/png": "[encoded data removed]",
      "text/plain": [
       "<Figure size 800x500 with 1 Axes>"
      ]
     },
     "metadata": {},
     "output_type": "display_data"
    }
   ],
   "source": [
    "plt.figure(figsize=(8, 5))\n",
    "plt.plot(history.history['loss'], label='Train Loss')\n",
    "plt.plot(history.history['val_loss'], label='Validation Loss')\n",
    "plt.title('Autoencoder Training Loss')\n",
    "plt.xlabel('Epoch')\n",
    "plt.ylabel('Loss (MSE)')\n",
    "plt.legend()\n",
    "plt.show()"
   ]
  },
  {
   "cell_type": "code",
   "execution_count": 192,
   "id": "3630078a-4f5a-4525-bb6c-6f5f5367080a",
   "metadata": {},
   "outputs": [],
   "source": [
    "#Calculate Reconstruction Errors on Test Set"
   ]
  },
  {
   "cell_type": "code",
   "execution_count": 194,
   "id": "6e4c3495-169b-4ebb-8d71-46d48de629b8",
   "metadata": {},
   "outputs": [
    {
     "name": "stdout",
     "output_type": "stream",
     "text": [
      "\u001b[1m1793/1793\u001b[0m \u001b[32m━━━━━━━━━━━━━━━━━━━━\u001b[0m\u001b[37m\u001b[0m \u001b[1m3s\u001b[0m 1ms/step\n"
     ]
    }
   ],
   "source": [
    "X_test_pred = autoencoder.predict(X_test)\n",
    "reconstruction_errors = np.mean(np.power(X_test - X_test_pred, 2), axis=1)"
   ]
  },
  {
   "cell_type": "code",
   "execution_count": null,
   "id": "42069a37-25c6-4ef2-9e5b-fb42c9403d45",
   "metadata": {},
   "outputs": [],
   "source": [
    "X_train_pred = autoencoder.predict(X_train)\n",
    "train_errors = np.mean(np.power(X_train - X_train_pred, 2), axis=1)"
   ]
  },
  {
   "cell_type": "code",
   "execution_count": 195,
   "id": "d046eeed-cacb-48c6-9c2c-4f6e59778aae",
   "metadata": {},
   "outputs": [],
   "source": [
    "# F1-optimized Threshold"
   ]
  },
  {
   "cell_type": "code",
   "execution_count": 196,
   "id": "743ae623-e1dc-4347-9576-e454c6eef3fb",
   "metadata": {},
   "outputs": [
    {
     "name": "stdout",
     "output_type": "stream",
     "text": [
      "\u001b[1m7108/7108\u001b[0m \u001b[32m━━━━━━━━━━━━━━━━━━━━\u001b[0m\u001b[37m\u001b[0m \u001b[1m10s\u001b[0m 1ms/step\n",
      "\n",
      " Reconstruction error threshold (95th percentile): 1.057771\n"
     ]
    }
   ],
   "source": [
    "best_f1 = 0\n",
    "best_thresh = 0\n",
    "for thresh in np.linspace(min(reconstruction_errors), max(reconstruction_errors), 1000):\n",
    "    y_pred_temp = (reconstruction_errors > thresh).astype(int)\n",
    "    f1 = f1_score(y_test, y_pred_temp)\n",
    "    if f1 > best_f1:\n",
    "        best_f1 = f1\n",
    "        best_thresh = thresh\n",
    "\n",
    "threshold = best_thresh\n",
    "print(f\"\\nOptimal threshold based on F1 Score: {threshold:.6f}\")"
   ]
  },
  {
   "cell_type": "code",
   "execution_count": null,
   "id": "3186d5eb-117e-47f7-a13f-e5ff68270288",
   "metadata": {},
   "outputs": [],
   "source": [
    "# Visualize Reconstruction Error"
   ]
  },
  {
   "cell_type": "code",
   "execution_count": null,
   "id": "aec58716-c9f3-44bb-b09b-7074846bb5d1",
   "metadata": {},
   "outputs": [],
   "source": [
    "plt.figure(figsize=(10, 6))\n",
    "sns.histplot(reconstruction_errors[y_test == 0], bins=50, color='blue', label='Normal', stat='density')\n",
    "sns.histplot(reconstruction_errors[y_test == 1], bins=50, color='red', label='Fraud', stat='density')\n",
    "plt.axvline(threshold, color='black', linestyle='--', label='Threshold')\n",
    "plt.title('Reconstruction Error Distribution')\n",
    "plt.xlabel('Reconstruction Error (MSE)')\n",
    "plt.ylabel('Density')\n",
    "plt.legend()\n",
    "plt.show()"
   ]
  },
  {
   "cell_type": "code",
   "execution_count": null,
   "id": "17712155-e147-412e-b633-16dd8138f463",
   "metadata": {},
   "outputs": [],
   "source": [
    "#Error Heatmap"
   ]
  },
  {
   "cell_type": "code",
   "execution_count": null,
   "id": "d8f8e86d-f369-4c62-a37c-75df2f867a1a",
   "metadata": {},
   "outputs": [],
   "source": [
    "plt.figure(figsize=(12, 6))\n",
    "sns.heatmap(np.abs(X_test - X_test_pred), cmap='coolwarm', cbar=True)\n",
    "plt.title(\"Reconstruction Error Heatmap (Test Set)\")\n",
    "plt.xlabel(\"Feature Index\")\n",
    "plt.ylabel(\"Sample Index\")\n",
    "plt.show()"
   ]
  },
  {
   "cell_type": "code",
   "execution_count": null,
   "id": "f507d5bd-5c2e-4db6-b1be-a1833d9523d1",
   "metadata": {},
   "outputs": [],
   "source": [
    "# Final Prediction\n",
    "y_pred = (reconstruction_errors > threshold).astype(int)"
   ]
  },
  {
   "cell_type": "code",
   "execution_count": null,
   "id": "d77cdd35-8126-429d-a0c0-829156864e32",
   "metadata": {},
   "outputs": [],
   "source": []
  }
 ],
 "metadata": {
  "kernelspec": {
   "display_name": "Python [conda env:base] *",
   "language": "python",
   "name": "conda-base-py"
  },
  "language_info": {
   "codemirror_mode": {
    "name": "ipython",
    "version": 3
   },
   "file_extension": ".py",
   "mimetype": "text/x-python",
   "name": "python",
   "nbconvert_exporter": "python",
   "pygments_lexer": "ipython3",
   "version": "3.12.7"
  }
 },
 "nbformat": 4,
 "nbformat_minor": 5
}
